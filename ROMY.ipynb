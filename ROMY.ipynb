{
  "nbformat": 4,
  "nbformat_minor": 0,
  "metadata": {
    "colab": {
      "provenance": [],
      "authorship_tag": "ABX9TyO54kNeTizNXa2nENRcUHgR",
      "include_colab_link": true
    },
    "kernelspec": {
      "name": "python3",
      "display_name": "Python 3"
    },
    "language_info": {
      "name": "python"
    }
  },
  "cells": [
    {
      "cell_type": "markdown",
      "metadata": {
        "id": "view-in-github",
        "colab_type": "text"
      },
      "source": [
        "<a href=\"https://colab.research.google.com/github/ohmp/ROMY/blob/main/ROMY.ipynb\" target=\"_parent\"><img src=\"https://colab.research.google.com/assets/colab-badge.svg\" alt=\"Open In Colab\"/></a>"
      ]
    },
    {
      "cell_type": "code",
      "source": [
        "for i in range(1):\n",
        "    for j in range(2):\n",
        "        for k in range(1):\n",
        "            print(\"a\", end=\" \")\n",
        "        print(end=\"\")\n",
        "    print(\"c\")"
      ],
      "metadata": {
        "id": "mjWTheqq0E6e",
        "colab": {
          "base_uri": "https://localhost:8080/"
        },
        "outputId": "82e1a829-1cdd-4f32-9cba-6376dc624907"
      },
      "execution_count": null,
      "outputs": [
        {
          "output_type": "stream",
          "name": "stdout",
          "text": [
            "a a c\n"
          ]
        }
      ]
    },
    {
      "cell_type": "code",
      "source": [
        "for i in range(2):\n",
        "  print(i)"
      ],
      "metadata": {
        "colab": {
          "base_uri": "https://localhost:8080/"
        },
        "id": "8HPusT6GuRVn",
        "outputId": "0ea7d19e-6ab3-4510-c791-cb809ffb3bca"
      },
      "execution_count": null,
      "outputs": [
        {
          "output_type": "stream",
          "name": "stdout",
          "text": [
            "0\n",
            "1\n"
          ]
        }
      ]
    },
    {
      "cell_type": "code",
      "source": [
        "x = \"global\"\n",
        "def foo():\n",
        "    global x\n",
        "    print(x, end=\",\")\n",
        "    x = \"local\"\n",
        "    print(x, end=\",\")\n",
        "\n",
        "foo()\n",
        "print(x, end=\"\")"
      ],
      "metadata": {
        "colab": {
          "base_uri": "https://localhost:8080/"
        },
        "id": "QGZ7j1vmubVQ",
        "outputId": "99c30f64-719e-4c51-87fd-4e2ba6e3f4ba"
      },
      "execution_count": null,
      "outputs": [
        {
          "output_type": "stream",
          "name": "stdout",
          "text": [
            "global,local,local"
          ]
        }
      ]
    },
    {
      "cell_type": "code",
      "source": [
        "word = \"Scaler Data Science Course\"\n",
        "word_list = list(word)"
      ],
      "metadata": {
        "id": "gyNDcBOy4v3r"
      },
      "execution_count": null,
      "outputs": []
    },
    {
      "cell_type": "code",
      "source": [
        "print(word_list[7:19])"
      ],
      "metadata": {
        "colab": {
          "base_uri": "https://localhost:8080/"
        },
        "id": "7tWhqMJkFsDJ",
        "outputId": "b3c4d7e9-b531-476b-f4f6-c0872985a683"
      },
      "execution_count": null,
      "outputs": [
        {
          "output_type": "stream",
          "name": "stdout",
          "text": [
            "['D', 'a', 't', 'a', ' ', 'S', 'c', 'i', 'e', 'n', 'c', 'e']\n"
          ]
        }
      ]
    },
    {
      "cell_type": "code",
      "source": [
        "print(word_list[7:18])"
      ],
      "metadata": {
        "colab": {
          "base_uri": "https://localhost:8080/"
        },
        "id": "FSjyS8WtFuZq",
        "outputId": "f372bc95-228b-45d4-dbca-630fc89e104d"
      },
      "execution_count": null,
      "outputs": [
        {
          "output_type": "stream",
          "name": "stdout",
          "text": [
            "['D', 'a', 't', 'a', ' ', 'S', 'c', 'i', 'e', 'n', 'c']\n"
          ]
        }
      ]
    },
    {
      "cell_type": "markdown",
      "source": [
        "#Dot product"
      ],
      "metadata": {
        "id": "pTQVT-at4HTC"
      }
    },
    {
      "cell_type": "code",
      "source": [
        "import numpy as np\n",
        "\n",
        "array1 = np.array([1, 3, 5])\n",
        "array2 = np.array([2, 4, 6])\n",
        "\n",
        "# use of dot() to perform array multiplication\n",
        "result = np.dot(array1, array2)\n",
        "\n",
        "print(result)"
      ],
      "metadata": {
        "colab": {
          "base_uri": "https://localhost:8080/"
        },
        "id": "Q8z3HTfdKfne",
        "outputId": "1ac45ec6-a42f-4233-c996-070b698c4895"
      },
      "execution_count": null,
      "outputs": [
        {
          "output_type": "stream",
          "name": "stdout",
          "text": [
            "44\n"
          ]
        }
      ]
    },
    {
      "cell_type": "markdown",
      "source": [
        "Inner Product"
      ],
      "metadata": {
        "id": "OYwI8LKj4KHS"
      }
    },
    {
      "cell_type": "code",
      "source": [
        "import numpy as np\n",
        "\n",
        "array1 = np.array([[1, 3],\n",
        "                   [5, 7]])\n",
        "array2 = np.array([[2, 4],\n",
        "                   [6, 8]])\n",
        "\n",
        "# inner() for 2D arrays\n",
        "result = np.inner(array1, array2)\n",
        "\n",
        "print(result)"
      ],
      "metadata": {
        "colab": {
          "base_uri": "https://localhost:8080/"
        },
        "id": "m_usV0Vt3oDO",
        "outputId": "385f034b-fa58-43d0-eac4-6c6a0b0e30f6"
      },
      "execution_count": null,
      "outputs": [
        {
          "output_type": "stream",
          "name": "stdout",
          "text": [
            "[[14 30]\n",
            " [38 86]]\n"
          ]
        }
      ]
    },
    {
      "cell_type": "markdown",
      "source": [
        "Determinant"
      ],
      "metadata": {
        "id": "ZFEB_r755ZoC"
      }
    },
    {
      "cell_type": "code",
      "source": [
        "import numpy as np\n",
        "\n",
        "# define a square matrix\n",
        "array1 = np.array([[1, 3],\n",
        "                  [5, 7]])\n",
        "\n",
        "# compute the determinant of array1\n",
        "result = np.linalg.det(array1)\n",
        "\n",
        "\n",
        "print(result)\n"
      ],
      "metadata": {
        "colab": {
          "base_uri": "https://localhost:8080/"
        },
        "id": "x7IHG1D74Nj0",
        "outputId": "c0541df4-0598-44d6-9c2d-969f547b0885"
      },
      "execution_count": null,
      "outputs": [
        {
          "output_type": "stream",
          "name": "stdout",
          "text": [
            "-7.999999999999998\n"
          ]
        }
      ]
    },
    {
      "cell_type": "code",
      "source": [
        "1*7 - 3 * 5"
      ],
      "metadata": {
        "colab": {
          "base_uri": "https://localhost:8080/"
        },
        "id": "zz41Epl15dCm",
        "outputId": "7f63a512-8e17-46d5-dcda-8422cdf4b6af"
      },
      "execution_count": null,
      "outputs": [
        {
          "output_type": "execute_result",
          "data": {
            "text/plain": [
              "-8"
            ]
          },
          "metadata": {},
          "execution_count": 5
        }
      ]
    },
    {
      "cell_type": "code",
      "source": [
        "# define a square matrix\n",
        "array1 = np.array([[2, 2],\n",
        "                  [14, 14]])\n",
        "\n",
        "# compute the determinant of array1\n",
        "result = np.linalg.det(array1)\n",
        "\n",
        "\n",
        "print(result)"
      ],
      "metadata": {
        "colab": {
          "base_uri": "https://localhost:8080/"
        },
        "id": "FBrEyJ6d5v_K",
        "outputId": "a1283dba-d86d-41e8-e4b5-749110c78662"
      },
      "execution_count": null,
      "outputs": [
        {
          "output_type": "stream",
          "name": "stdout",
          "text": [
            "0.0\n"
          ]
        }
      ]
    },
    {
      "cell_type": "markdown",
      "source": [],
      "metadata": {
        "id": "O32Htl3W6Bj4"
      }
    },
    {
      "cell_type": "code",
      "source": [
        "# define a square matrix\n",
        "array1 = np.array([[2, 2],\n",
        "                  [1, 14]])\n",
        "\n",
        "# compute the determinant of array1\n",
        "result = np.linalg.det(array1)\n",
        "\n",
        "\n",
        "print(result)"
      ],
      "metadata": {
        "colab": {
          "base_uri": "https://localhost:8080/"
        },
        "id": "fDuZ8pmk58Wa",
        "outputId": "26f0e78a-183a-4a36-e819-0f8a7e8c9d10"
      },
      "execution_count": null,
      "outputs": [
        {
          "output_type": "stream",
          "name": "stdout",
          "text": [
            "26.000000000000004\n"
          ]
        }
      ]
    },
    {
      "cell_type": "markdown",
      "source": [
        "NumPy solve()\n",
        "\n",
        "In NumPy, we use the solve() function to solve a system of linear equations.\n",
        "\n",
        "For a given matrix A and a vector b, solve(A, b) finds the solution vector x that satisfies the equation **Ax = b**."
      ],
      "metadata": {
        "id": "iujjElf06utp"
      }
    },
    {
      "cell_type": "code",
      "source": [
        "# define the coefficient matrix A\n",
        "A = np.array([[2, 4],\n",
        "             [6, 8]])\n",
        "\n",
        "# define the constant vector b\n",
        "b = np.array([5, 6])\n",
        "\n",
        "# solve the system of linear equations Ax = b\n",
        "x = np.linalg.solve(A, b)\n",
        "print(x)"
      ],
      "metadata": {
        "colab": {
          "base_uri": "https://localhost:8080/"
        },
        "id": "XgxTslGD6Glj",
        "outputId": "366c220a-b033-4634-9e7c-f19a8aa5cb86"
      },
      "execution_count": null,
      "outputs": [
        {
          "output_type": "stream",
          "name": "stdout",
          "text": [
            "[-2.    2.25]\n"
          ]
        }
      ]
    },
    {
      "cell_type": "markdown",
      "source": [],
      "metadata": {
        "id": "PMti8RlF7q9T"
      }
    },
    {
      "cell_type": "code",
      "source": [
        "# define a 2x2 matrix\n",
        "array1 = np.array([[2, 4],\n",
        "                  [6, 8]])\n",
        "\n",
        "# compute the inverse of the matrix\n",
        "result = np.linalg.inv(array1)\n",
        "\n",
        "print(result)"
      ],
      "metadata": {
        "colab": {
          "base_uri": "https://localhost:8080/"
        },
        "id": "xYYdVfmS7Bnj",
        "outputId": "9324bb39-231f-4cde-fda2-2def0f3ea89e"
      },
      "execution_count": null,
      "outputs": [
        {
          "output_type": "stream",
          "name": "stdout",
          "text": [
            "[[-1.    0.5 ]\n",
            " [ 0.75 -0.25]]\n"
          ]
        }
      ]
    },
    {
      "cell_type": "markdown",
      "source": [
        "\n",
        "Example Matrix:\n",
        "\n",
        "Consider the following 2x2 matrix  A :\n",
        "\n",
        "\n",
        "A = \\begin{pmatrix}\n",
        "4 & 7 \\\\\n",
        "2 & 6\n",
        "\\end{pmatrix}\n",
        "\n",
        "\n",
        "Step 1: Find the Determinant of  A\n",
        "\n",
        "The determinant of a 2x2 matrix is calculated as:\n",
        "\n",
        "\n",
        "\\text{det}(A) = (a \\times d) - (b \\times c)\n",
        "\n",
        "\n",
        "For matrix  A :\n",
        "\n",
        "\n",
        "\\text{det}(A) = (4 \\times 6) - (7 \\times 2) = 24 - 14 = 10\n",
        "\n",
        "\n",
        "Step 2: Find the Adjugate (Adjoint) of  A\n",
        "\n",
        "For a 2x2 matrix, the adjugate is found by swapping the elements on the main diagonal and changing the signs of the off-diagonal elements:\n",
        "\n",
        "\n",
        "\\text{Adj}(A) = \\begin{pmatrix}\n",
        "d & -b \\\\\n",
        "-c & a\n",
        "\\end{pmatrix}\n",
        "\n",
        "\n",
        "For matrix  A :\n",
        "\n",
        "\n",
        "\\text{Adj}(A) = \\begin{pmatrix}\n",
        "6 & -7 \\\\\n",
        "-2 & 4\n",
        "\\end{pmatrix}\n",
        "\n",
        "\n",
        "Step 3: Calculate the Inverse of  A\n",
        "\n",
        "The inverse of the matrix  A  is calculated as:\n",
        "\n",
        "\n",
        "A^{-1} = \\frac{1}{\\text{det}(A)} \\times \\text{Adj}(A)\n",
        "\n",
        "\n",
        "So for our example:\n",
        "\n",
        "\n",
        "A^{-1} = \\frac{1}{10} \\times \\begin{pmatrix}\n",
        "6 & -7 \\\\\n",
        "-2 & 4\n",
        "\\end{pmatrix} = \\begin{pmatrix}\n",
        "0.6 & -0.7 \\\\\n",
        "-0.2 & 0.4\n",
        "\\end{pmatrix}\n",
        "\n",
        "\n",
        "Final Inverse Matrix:\n",
        "\n",
        "The inverse of matrix  A  is:\n",
        "\n",
        "\n",
        "A^{-1} = \\begin{pmatrix}\n",
        "0.6 & -0.7 \\\\\n",
        "-0.2 & 0.4\n",
        "\\end{pmatrix}\n",
        "\n",
        "\n",
        "Verification:\n",
        "\n",
        "To verify, you can multiply  A  and  A^{-1}  and check if the result is the identity matrix  I :\n",
        "\n",
        "\n",
        "A \\times A^{-1} = \\begin{pmatrix}\n",
        "4 & 7 \\\\\n",
        "2 & 6\n",
        "\\end{pmatrix} \\times \\begin{pmatrix}\n",
        "0.6 & -0.7 \\\\\n",
        "-0.2 & 0.4\n",
        "\\end{pmatrix} = \\begin{pmatrix}\n",
        "1 & 0 \\\\\n",
        "0 & 1\n",
        "\\end{pmatrix}\n",
        "\n",
        "\n",
        "Since the result is the identity matrix, the inverse calculation is correct."
      ],
      "metadata": {
        "id": "rgFKhsJX-AEt"
      }
    },
    {
      "cell_type": "markdown",
      "source": [
        "NumPy trace()"
      ],
      "metadata": {
        "id": "QhjP_5G5-qNR"
      }
    },
    {
      "cell_type": "code",
      "source": [
        "# define a 3x3 matrix\n",
        "array1 = np.array([[6, 3, 5],\n",
        "                   [9, 2, 1],\n",
        "                   [7, 8, 4]])\n",
        "\n",
        "# compute the trace of the matrix\n",
        "result = np.trace(array1)\n",
        "\n",
        "print(result)"
      ],
      "metadata": {
        "colab": {
          "base_uri": "https://localhost:8080/"
        },
        "id": "dIdfDr5283HF",
        "outputId": "c1e8b0fb-b68a-4f79-850d-07ac3b72412e"
      },
      "execution_count": null,
      "outputs": [
        {
          "output_type": "stream",
          "name": "stdout",
          "text": [
            "12\n"
          ]
        }
      ]
    },
    {
      "cell_type": "markdown",
      "source": [
        "In this example, the diagonal elements of the matrix are 6, 2, and 4, so the sum of these elements is 12. So, the trace() function returns this value as the output."
      ],
      "metadata": {
        "id": "zlu3cVPK-0Ly"
      }
    },
    {
      "cell_type": "code",
      "source": [
        "from numpy import random\n",
        "\n",
        "random_number = random.randint(0, 10)\n",
        "\n",
        "print(random_number)"
      ],
      "metadata": {
        "colab": {
          "base_uri": "https://localhost:8080/"
        },
        "id": "uKoAGYvF-rX6",
        "outputId": "18b49b0e-74db-40c2-8cae-993ae6420612"
      },
      "execution_count": null,
      "outputs": [
        {
          "output_type": "stream",
          "name": "stdout",
          "text": [
            "8\n"
          ]
        }
      ]
    },
    {
      "cell_type": "markdown",
      "source": [
        "Generate Random Float in NumPy"
      ],
      "metadata": {
        "id": "PW5z35Lm_hKt"
      }
    },
    {
      "cell_type": "code",
      "source": [
        "# generate random float-point number between 0 and 1\n",
        "random_number = np.random.rand()\n",
        "\n",
        "print(random_number)"
      ],
      "metadata": {
        "colab": {
          "base_uri": "https://localhost:8080/"
        },
        "id": "aErmOyWQ_Qe3",
        "outputId": "23e92630-5694-4f45-f07e-95540de2fbf4"
      },
      "execution_count": null,
      "outputs": [
        {
          "output_type": "stream",
          "name": "stdout",
          "text": [
            "0.33542574606457387\n"
          ]
        }
      ]
    },
    {
      "cell_type": "code",
      "source": [],
      "metadata": {
        "id": "wIqF1vTv_l6n"
      },
      "execution_count": null,
      "outputs": []
    }
  ]
}